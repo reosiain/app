{
  "nbformat": 4,
  "nbformat_minor": 0,
  "metadata": {
    "colab": {
      "name": "ws_api_prototype.ipynb",
      "provenance": [],
      "authorship_tag": "ABX9TyOnGpHTeyQ9hM0oPFtlfegT",
      "include_colab_link": true
    },
    "kernelspec": {
      "name": "python3",
      "display_name": "Python 3"
    },
    "language_info": {
      "name": "python"
    }
  },
  "cells": [
    {
      "cell_type": "markdown",
      "metadata": {
        "id": "view-in-github",
        "colab_type": "text"
      },
      "source": [
        "<a href=\"https://colab.research.google.com/github/reosiain/app/blob/master/notebooks/ws_api_prototype.ipynb\" target=\"_parent\"><img src=\"https://colab.research.google.com/assets/colab-badge.svg\" alt=\"Open In Colab\"/></a>"
      ]
    },
    {
      "cell_type": "code",
      "source": [
        "!pip install polars\n",
        "!pip install websocket-client\n",
        "!pip install rel"
      ],
      "metadata": {
        "colab": {
          "base_uri": "https://localhost:8080/"
        },
        "id": "03UqlaAG5bfn",
        "outputId": "90e12a24-8623-44b9-c531-c304431e7c0e"
      },
      "execution_count": 5,
      "outputs": [
        {
          "output_type": "stream",
          "name": "stdout",
          "text": [
            "Requirement already satisfied: polars in /usr/local/lib/python3.7/dist-packages (0.13.24)\n",
            "Requirement already satisfied: numpy>=1.16.0 in /usr/local/lib/python3.7/dist-packages (from polars) (1.21.6)\n",
            "Requirement already satisfied: typing_extensions>=4.0.0 in /usr/local/lib/python3.7/dist-packages (from polars) (4.1.1)\n",
            "Requirement already satisfied: websocket-client in /usr/local/lib/python3.7/dist-packages (1.3.2)\n",
            "Requirement already satisfied: rel in /usr/local/lib/python3.7/dist-packages (0.4.7)\n"
          ]
        }
      ]
    },
    {
      "cell_type": "code",
      "execution_count": 17,
      "metadata": {
        "id": "Cik4WCnw4mNH"
      },
      "outputs": [],
      "source": [
        "import requests\n",
        "import datetime\n",
        "import os\n",
        "import time\n",
        "import json\n",
        "import math\n",
        "from dataclasses import dataclass, asdict\n",
        "import pandas as pd\n",
        "import polars as pl\n",
        "from polars import string_cache\n"
      ]
    },
    {
      "cell_type": "code",
      "source": [
        "URL_BASE = \"https://www.okex.com\"\n",
        "HEADERS = {\n",
        "    \"OK-ACCESS-KEY\": os.getenv('API_KEY'),\n",
        "    \"OK-ACCESS-SIGN\": os.getenv('API_SIGNATURE')\n",
        "}\n",
        "\n",
        "HEADERS = {\n",
        "    \"OK-ACCESS-KEY\": \"67a8941d-5f77-4322-8c55-c1650e683673\",\n",
        "    \"OK-ACCESS-SIGN\": \"D6E1DF1DE6D87013D409D29FBCA56E9B\",\n",
        "    #'OK-ACCESS-TIMESTAMP': str(int(datetime.datetime.now().timestamp())*1000-1000000),\n",
        "}"
      ],
      "metadata": {
        "id": "KsBOLktd4tUf"
      },
      "execution_count": 7,
      "outputs": []
    },
    {
      "cell_type": "code",
      "source": [
        "@dataclass\n",
        "class HistCandles:\n",
        "    dt: list\n",
        "    o: list\n",
        "    h: list\n",
        "    l: list\n",
        "    c: list\n",
        "    vol_count: list\n",
        "    vol_coin: list\n",
        "\n",
        "    def __init__(self) -> None:\n",
        "      self.dt = []\n",
        "      self.o = []\n",
        "      self.h = []\n",
        "      self.l = []\n",
        "      self.c = []\n",
        "      self.vol_count = []\n",
        "      self.vol_coin = []\n",
        "\n",
        "    def add(self, line) -> None:\n",
        "      self.dt.append(line[0])\n",
        "      self.o.append(line[1])\n",
        "      self.h.append(line[2])\n",
        "      self.l.append(line[3])\n",
        "      self.c.append(line[4])\n",
        "      self.vol_count.append(line[5])\n",
        "      self.vol_coin.append(line[6])\n",
        "\n",
        "    def to_polars(self) -> pl.DataFrame():\n",
        "      return pl.DataFrame(asdict(self))\n",
        "\n",
        "\n",
        "\n",
        "def to_unix(dt: datetime.datetime) -> int:\n",
        "    return int(dt.timestamp() * 1000)\n",
        "\n",
        "\n",
        "def to_isodate(dt: str) -> str:\n",
        "    dt = int(dt) / 1000\n",
        "    dt = datetime.datetime.utcfromtimestamp(int(dt))\n",
        "    return dt.isoformat()"
      ],
      "metadata": {
        "id": "x8_N1ziB5aAP"
      },
      "execution_count": 48,
      "outputs": []
    },
    {
      "cell_type": "code",
      "source": [
        "################ General \n",
        "\n",
        "def get_instruments(name: str, type:str = \"SPOT\") -> dict:\n",
        "    \"\"\"\n",
        "    \n",
        "    \"\"\"\n",
        "    global HEADERS\n",
        "    global URL_BASE\n",
        "\n",
        "    body = {\"instType\": type, \"uly\":name}\n",
        "\n",
        "    a = requests.get(\n",
        "        URL_BASE + \"/api/v5/public/instruments\", headers=HEADERS, params=body\n",
        "    )\n",
        "    return a.json()[\"data\"]\n",
        "\n",
        "def get_tickers(type:str = \"SPOT\") -> dict:\n",
        "    \"\"\"\n",
        "    Retrieve the latest price snapshot, best bid/ask price, and trading volume in the last 24 hours.\n",
        "    \"\"\"\n",
        "    global HEADERS\n",
        "    global URL_BASE\n",
        "\n",
        "    body = {\"instType\": type}\n",
        "\n",
        "    a = requests.get(\n",
        "        URL_BASE + \"/api/v5/market/tickers\", headers=HEADERS, params=body\n",
        "    )\n",
        "    return a.json()[\"data\"]"
      ],
      "metadata": {
        "id": "4I2v0tgW56Kb"
      },
      "execution_count": 96,
      "outputs": []
    },
    {
      "cell_type": "code",
      "source": [
        "def get_hist_candles(\n",
        "    pair: str, older_time: datetime.datetime, recent_time: datetime.datetime = None, verbose:bool = False\n",
        ") -> HistCandles:\n",
        "    \"\"\"\n",
        "    Retrieve history candlestick charts from recent years (in lists).\n",
        "    \"\"\"\n",
        "    if recent_time is None:\n",
        "        now = to_unix(datetime.datetime.now())\n",
        "    else:\n",
        "        now = to_unix(recent_time)\n",
        "\n",
        "    step_msec = 60000\n",
        "    per_page = 100\n",
        "    global HEADERS\n",
        "    global URL_BASE\n",
        "    body = {\n",
        "        \"instId\": pair,\n",
        "        \"after\": str(now),\n",
        "    }\n",
        "\n",
        "    loops = math.ceil(((now - to_unix(older_time)) / step_msec) / per_page)\n",
        "    data = HistCandles()\n",
        "\n",
        "    for step in range(loops):\n",
        "        r = requests.get(\n",
        "            URL_BASE + \"/api/v5/market/history-candles\", headers=HEADERS, params=body\n",
        "        ).json()[\"data\"]\n",
        "\n",
        "        if verbose:\n",
        "          print(to_isodate(str(now)), r)\n",
        "\n",
        "        if len(r) == 0:\n",
        "          now -= step*step_msec*per_page # Step back in time if empty response\n",
        "        else:\n",
        "          now = r[-1][0] # Time of the last candle in this batch\n",
        "\n",
        "        for cndl in r:\n",
        "            data.add((cndl[i] if i != 0 else to_isodate(cndl[i]) for i in range(6)))\n",
        "        \n",
        "        body[\"after\"] = str(now)\n",
        "\n",
        "        time.sleep(0.06)\n",
        "\n",
        "    return data"
      ],
      "metadata": {
        "id": "8gcTylaX72Aq"
      },
      "execution_count": 39,
      "outputs": []
    },
    {
      "cell_type": "code",
      "source": [
        "def get_latest_candles(pair: str,  verbose:bool = False) -> HistCandles:\n",
        "    \"\"\"\n",
        "    Retrieve the candlestick charts. This endpoint can retrieve the latest 1,440 data entries. \n",
        "    Charts are returned in groups based on the requested bar. \n",
        "    \"\"\"\n",
        "    global HEADERS\n",
        "    global URL_BASE\n",
        "\n",
        "    body = {\"instId\": pair}\n",
        "\n",
        "    data = HistCandles()\n",
        "\n",
        "    for step in range(10):\n",
        "        r = requests.get(\n",
        "            URL_BASE + \"/api/v5/market/candles\", headers=HEADERS, params=body\n",
        "        ).json()[\"data\"]\n",
        "        for cndl in r:\n",
        "            data.add(tuple(cndl[i] if i != 0 else to_isodate(cndl[i]) for i in range(7)))\n",
        "        \n",
        "        body[\"after\"] = str(r[-1][0])\n",
        "\n",
        "        if verbose:\n",
        "          print(to_isodate(body[\"after\"]), r)\n",
        "\n",
        "        time.sleep(0.03)\n",
        "\n",
        "    return data"
      ],
      "metadata": {
        "id": "VEW8ERuj8QCg"
      },
      "execution_count": 78,
      "outputs": []
    },
    {
      "cell_type": "code",
      "source": [
        "from typing_extensions import ParamSpec\n",
        "import websocket\n",
        "import ssl\n",
        "import json\n",
        "\n",
        "import threading \n",
        "from threading import Lock \n",
        "\n",
        "input_container = []\n",
        "output_container = []\n",
        "\n",
        "ws_address = 'wss://wspap.okx.com:8443/ws/v5/public?brokerId=9999'\n",
        "\n",
        "params = {\n",
        "    \"op\": \"subscribe\",\n",
        "    \"args\": [\n",
        "      {\n",
        "        \"channel\": \"candle1m\",\n",
        "        \"instId\": \"DOT-USDT\"\n",
        "      },\n",
        "      {\n",
        "        \"channel\": \"candle1m\",\n",
        "        \"instId\": \"AVAX-USDT\"\n",
        "      },\n",
        "      {\n",
        "        \"channel\": \"candle1m\",\n",
        "        \"instId\": \"ADA-USDT\"\n",
        "      },\n",
        "      {\n",
        "        \"channel\": \"candle1m\",\n",
        "        \"instId\": \"DOGE-USDT\"\n",
        "      },\n",
        "      {\n",
        "        \"channel\": \"candle1m\",\n",
        "        \"instId\": \"SOL-USDT\"\n",
        "      },\n",
        "      {\n",
        "        \"channel\": \"candle1m\",\n",
        "        \"instId\": \"LUNA-USDT\"\n",
        "      },\n",
        "      {\n",
        "        \"channel\": \"candle1m\",\n",
        "        \"instId\": \"XRP-USDT\"\n",
        "      }\n",
        "      ,\n",
        "      {\n",
        "        \"channel\": \"candle1m\",\n",
        "        \"instId\": \"ETH-USDT\"\n",
        "      }\n",
        "    ]\n",
        "}\n",
        "\n",
        "class Ws:\n",
        "  def __init__(self, path:str, params:dict, lock: Lock) -> None:\n",
        "\n",
        "    self.subscription_params = params\n",
        "    websocket.enableTrace(False)\n",
        "    self.ws = websocket.WebSocketApp(path,\n",
        "                            on_open = self.on_open,\n",
        "                            on_close = self.on_close, \n",
        "                            on_message = self.on_message,\n",
        "                            on_error=self.on_error\n",
        "                          )\n",
        "\n",
        "\n",
        "  @staticmethod\n",
        "  def on_open(ws):\n",
        "    print('Opened Connection')\n",
        "    ws.send(json.dumps(params))\n",
        "  \n",
        "  @staticmethod\n",
        "  def on_close(ws, close_status_code, close_msg):\n",
        "      print('Closed Connection')\n",
        "\n",
        "  @staticmethod\n",
        "  def on_message(ws, message):\n",
        "      print(json.loads(message))\n",
        "      global lock\n",
        "      global input_container\n",
        "      with lock:\n",
        "        input_container.append(json.loads(message))\n",
        "  \n",
        "  @staticmethod\n",
        "  def on_error(ws, err):\n",
        "    print(\"Got a an error: \", err)\n",
        "\n",
        "  def run(self):\n",
        "    self.ws.run_forever(sslopt={\"cert_reqs\": ssl.CERT_NONE})\n",
        "\n"
      ],
      "metadata": {
        "id": "Ug1oPgSUDPbg"
      },
      "execution_count": null,
      "outputs": []
    },
    {
      "cell_type": "code",
      "source": [
        "class Socket_tread(threading.Thread):\n",
        "    def __init__(self, name, lock, **kwargs):\n",
        "        threading.Thread.__init__(self)\n",
        "        self.name = name\n",
        "        self.ws = Ws(kwargs['path'], kwargs['params'], lock)\n",
        "        self.lock = lock\n",
        "\n",
        "    def run(self):\n",
        "        global intermediate_container\n",
        "        self.ws.run()\n",
        "\n",
        "\n",
        "class Mongo_thread(threading.Thread):\n",
        "    def __init__(self, name, lock):\n",
        "        threading.Thread.__init__(self)\n",
        "        self.name = name\n",
        "        self.lock = lock \n",
        "\n",
        "    def run(self):\n",
        "        global input_container\n",
        "        global output_container\n",
        "        \n",
        "        while True:\n",
        "          if len(input_container) == 10:\n",
        "            with self.lock:\n",
        "              output_container = input_container.copy()\n",
        "              input_container = []\n",
        "\n",
        "            with open(r\"new_\", 'a') as f:\n",
        "              f.write('Good\\n')\n"
      ],
      "metadata": {
        "id": "YDQWTUXler06"
      },
      "execution_count": 23,
      "outputs": []
    },
    {
      "cell_type": "code",
      "source": [
        "lock = Lock()\n",
        "s = Socket_tread('ws', lock, path=ws_address, params = params)\n",
        "r = Mongo_thread('mongo', lock)"
      ],
      "metadata": {
        "id": "7aIeJ1WQgG10"
      },
      "execution_count": 24,
      "outputs": []
    },
    {
      "cell_type": "code",
      "source": [
        "s.run()\n",
        "r.run()"
      ],
      "metadata": {
        "colab": {
          "base_uri": "https://localhost:8080/",
          "height": 616
        },
        "id": "9mr6WEGUgIIS",
        "outputId": "62105e25-e372-4f26-985b-0e09f31ecef4"
      },
      "execution_count": 26,
      "outputs": [
        {
          "output_type": "stream",
          "name": "stdout",
          "text": [
            "Opened Connection\n",
            "{'event': 'subscribe', 'arg': {'channel': 'candle1m', 'instId': 'DOT-USDT'}}\n",
            "{'arg': {'channel': 'candle1m', 'instId': 'DOT-USDT'}, 'data': [['1650638820000', '18.214', '18.217', '18.214', '18.217', '6508.707196', '118559.897806']]}\n",
            "{'event': 'error', 'msg': \"channel:candle1m,instId:AVAX-USDT doesn't exist\", 'code': '60018'}\n",
            "{'event': 'subscribe', 'arg': {'channel': 'candle1m', 'instId': 'ADA-USDT'}}\n",
            "{'arg': {'channel': 'candle1m', 'instId': 'ADA-USDT'}, 'data': [['1650638820000', '0.90366', '0.90425', '0.90366', '0.90425', '317180.6955', '286736.68803368']]}\n",
            "{'event': 'subscribe', 'arg': {'channel': 'candle1m', 'instId': 'DOGE-USDT'}}\n",
            "{'arg': {'channel': 'candle1m', 'instId': 'DOGE-USDT'}, 'data': [['1650638820000', '0.135943', '0.135998', '0.135943', '0.135976', '1914222.431149', '260275.431487']]}\n",
            "{'event': 'subscribe', 'arg': {'channel': 'candle1m', 'instId': 'SOL-USDT'}}\n",
            "{'arg': {'channel': 'candle1m', 'instId': 'SOL-USDT'}, 'data': [['1650638820000', '100.491', '100.555', '100.491', '100.518', '5611.718129', '564036.991066']]}\n",
            "{'event': 'error', 'msg': \"channel:candle1m,instId:LUNA-USDT doesn't exist\", 'code': '60018'}\n",
            "{'event': 'subscribe', 'arg': {'channel': 'candle1m', 'instId': 'XRP-USDT'}}\n",
            "{'arg': {'channel': 'candle1m', 'instId': 'XRP-USDT'}, 'data': [['1650638820000', '0.71882', '0.71919', '0.71882', '0.71919', '746498.595483', '536782.274664']]}\n",
            "{'event': 'subscribe', 'arg': {'channel': 'candle1m', 'instId': 'ETH-USDT'}}\n",
            "{'arg': {'channel': 'candle1m', 'instId': 'ETH-USDT'}, 'data': [['1650638820000', '2974.46', '2976.16', '2974.46', '2976.16', '135.857458', '404203.604698']]}\n",
            "Got a an error:  \n",
            "Closed Connection\n"
          ]
        },
        {
          "output_type": "error",
          "ename": "KeyboardInterrupt",
          "evalue": "ignored",
          "traceback": [
            "\u001b[0;31m---------------------------------------------------------------------------\u001b[0m",
            "\u001b[0;31mKeyboardInterrupt\u001b[0m                         Traceback (most recent call last)",
            "\u001b[0;32m<ipython-input-26-ed56cf615323>\u001b[0m in \u001b[0;36m<module>\u001b[0;34m()\u001b[0m\n\u001b[1;32m      1\u001b[0m \u001b[0ms\u001b[0m\u001b[0;34m.\u001b[0m\u001b[0mrun\u001b[0m\u001b[0;34m(\u001b[0m\u001b[0;34m)\u001b[0m\u001b[0;34m\u001b[0m\u001b[0;34m\u001b[0m\u001b[0m\n\u001b[0;32m----> 2\u001b[0;31m \u001b[0mr\u001b[0m\u001b[0;34m.\u001b[0m\u001b[0mrun\u001b[0m\u001b[0;34m(\u001b[0m\u001b[0;34m)\u001b[0m\u001b[0;34m\u001b[0m\u001b[0;34m\u001b[0m\u001b[0m\n\u001b[0m",
            "\u001b[0;32m<ipython-input-23-398995985ca1>\u001b[0m in \u001b[0;36mrun\u001b[0;34m(self)\u001b[0m\n\u001b[1;32m     22\u001b[0m \u001b[0;34m\u001b[0m\u001b[0m\n\u001b[1;32m     23\u001b[0m         \u001b[0;32mwhile\u001b[0m \u001b[0;32mTrue\u001b[0m\u001b[0;34m:\u001b[0m\u001b[0;34m\u001b[0m\u001b[0;34m\u001b[0m\u001b[0m\n\u001b[0;32m---> 24\u001b[0;31m           \u001b[0;32mif\u001b[0m \u001b[0mlen\u001b[0m\u001b[0;34m(\u001b[0m\u001b[0minput_container\u001b[0m\u001b[0;34m)\u001b[0m \u001b[0;34m==\u001b[0m \u001b[0;36m10\u001b[0m\u001b[0;34m:\u001b[0m\u001b[0;34m\u001b[0m\u001b[0;34m\u001b[0m\u001b[0m\n\u001b[0m\u001b[1;32m     25\u001b[0m             \u001b[0;32mwith\u001b[0m \u001b[0mself\u001b[0m\u001b[0;34m.\u001b[0m\u001b[0mlock\u001b[0m\u001b[0;34m:\u001b[0m\u001b[0;34m\u001b[0m\u001b[0;34m\u001b[0m\u001b[0m\n\u001b[1;32m     26\u001b[0m               \u001b[0moutput_container\u001b[0m \u001b[0;34m=\u001b[0m \u001b[0minput_container\u001b[0m\u001b[0;34m.\u001b[0m\u001b[0mcopy\u001b[0m\u001b[0;34m(\u001b[0m\u001b[0;34m)\u001b[0m\u001b[0;34m\u001b[0m\u001b[0;34m\u001b[0m\u001b[0m\n",
            "\u001b[0;31mKeyboardInterrupt\u001b[0m: "
          ]
        }
      ]
    },
    {
      "cell_type": "code",
      "source": [
        "intermediate_container =[1,2,3,45]"
      ],
      "metadata": {
        "id": "PtXunOncgKY0"
      },
      "execution_count": 22,
      "outputs": []
    },
    {
      "cell_type": "code",
      "source": [
        "for elem in intermediate_container:\n",
        "  del elem"
      ],
      "metadata": {
        "id": "5vvVEC3BgK8X"
      },
      "execution_count": 26,
      "outputs": []
    },
    {
      "cell_type": "code",
      "source": [
        "r = intermediate_container.copy()"
      ],
      "metadata": {
        "id": "KU1oamNRpaPI"
      },
      "execution_count": 30,
      "outputs": []
    },
    {
      "cell_type": "code",
      "source": [
        "r"
      ],
      "metadata": {
        "colab": {
          "base_uri": "https://localhost:8080/"
        },
        "id": "NzvATQkFpbVl",
        "outputId": "95de82ab-0baa-4da8-8bf8-32c349d4efd5"
      },
      "execution_count": 32,
      "outputs": [
        {
          "output_type": "execute_result",
          "data": {
            "text/plain": [
              "[2, 3, 45]"
            ]
          },
          "metadata": {},
          "execution_count": 32
        }
      ]
    },
    {
      "cell_type": "code",
      "source": [
        "with open(r\"new_\", 'w') as f:\n",
        "  f.write('Good\\n')"
      ],
      "metadata": {
        "id": "xoj32onUrG54"
      },
      "execution_count": 2,
      "outputs": []
    },
    {
      "cell_type": "code",
      "source": [
        "len(input_container)"
      ],
      "metadata": {
        "colab": {
          "base_uri": "https://localhost:8080/"
        },
        "id": "BqQNq8VlrIoI",
        "outputId": "2d4c0ed6-6963-438a-86dc-b47330115b14"
      },
      "execution_count": 16,
      "outputs": [
        {
          "output_type": "execute_result",
          "data": {
            "text/plain": [
              "0"
            ]
          },
          "metadata": {},
          "execution_count": 16
        }
      ]
    },
    {
      "cell_type": "code",
      "source": [
        "f.write('sdasd')"
      ],
      "metadata": {
        "colab": {
          "base_uri": "https://localhost:8080/",
          "height": 169
        },
        "id": "Vfro2ykRsY7G",
        "outputId": "e3ae59aa-fb23-4030-f2c8-42db187b49b0"
      },
      "execution_count": 53,
      "outputs": [
        {
          "output_type": "error",
          "ename": "ValueError",
          "evalue": "ignored",
          "traceback": [
            "\u001b[0;31m---------------------------------------------------------------------------\u001b[0m",
            "\u001b[0;31mValueError\u001b[0m                                Traceback (most recent call last)",
            "\u001b[0;32m<ipython-input-53-256b4613dfd3>\u001b[0m in \u001b[0;36m<module>\u001b[0;34m()\u001b[0m\n\u001b[0;32m----> 1\u001b[0;31m \u001b[0mf\u001b[0m\u001b[0;34m.\u001b[0m\u001b[0mwrite\u001b[0m\u001b[0;34m(\u001b[0m\u001b[0;34m'sdasd'\u001b[0m\u001b[0;34m)\u001b[0m\u001b[0;34m\u001b[0m\u001b[0;34m\u001b[0m\u001b[0m\n\u001b[0m",
            "\u001b[0;31mValueError\u001b[0m: I/O operation on closed file."
          ]
        }
      ]
    },
    {
      "cell_type": "code",
      "source": [
        ""
      ],
      "metadata": {
        "id": "CVJtvejhtTb7"
      },
      "execution_count": null,
      "outputs": []
    }
  ]
}